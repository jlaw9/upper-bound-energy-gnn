{
 "cells": [
  {
   "cell_type": "code",
   "execution_count": 1,
   "id": "e2590930-f8fe-4d56-a848-2a769b96d550",
   "metadata": {},
   "outputs": [],
   "source": [
    "import json\n",
    "import gzip\n",
    "import numpy as np\n",
    "import pandas as pd\n",
    "from pathlib import Path\n",
    "from distutils.log import warn\n",
    "from tqdm.notebook import tqdm\n",
    "\n",
    "from pymatgen.core import Composition, Structure\n",
    "from pymatgen.analysis.phase_diagram import PhaseDiagram, PDEntry\n",
    "\n",
    "tqdm.pandas()"
   ]
  },
  {
   "cell_type": "code",
   "execution_count": 2,
   "id": "fd748a9f-d0a7-400e-b8da-ffb11572ab73",
   "metadata": {},
   "outputs": [],
   "source": [
    "import tensorflow as tf\n",
    "import tensorflow_addons as tfa\n",
    "import nfp\n",
    "from nfp import custom_objects\n",
    "from nfp.layers import RBFExpansion\n",
    "\n",
    "from preprocess import preprocessor"
   ]
  },
  {
   "cell_type": "code",
   "execution_count": 3,
   "id": "43dd3aa0-c423-468e-8184-c3107f582d3b",
   "metadata": {},
   "outputs": [
    {
     "name": "stdout",
     "output_type": "stream",
     "text": [
      "pd.__version__ = '1.4.2'\n",
      "np.__version__ = '1.22.3'\n",
      "tf.__version__ = '2.7.0'\n",
      "nfp.__version__ = '0.3.12'\n"
     ]
    }
   ],
   "source": [
    "# since package versions may be important\n",
    "print(f\"{pd.__version__ = }\")\n",
    "print(f\"{np.__version__ = }\")\n",
    "print(f\"{tf.__version__ = }\")\n",
    "print(f\"{nfp.__version__ = }\")"
   ]
  },
  {
   "cell_type": "code",
   "execution_count": 4,
   "id": "1d02fe0a-33f4-46e8-be87-45874251c8ca",
   "metadata": {},
   "outputs": [
    {
     "name": "stdout",
     "output_type": "stream",
     "text": [
      "Name: pymatgen\n",
      "Version: 2022.2.10\n",
      "Summary: Python Materials Genomics is a robust materials analysis code that defines core object representations for structures and molecules with support for many electronic structure codes. It is currently the core analysis code powering the Materials Project (https://www.materialsproject.org).\n",
      "Home-page: https://pymatgen.org\n",
      "Author: Pymatgen Development Team\n",
      "Author-email: ongsp@eng.ucsd.edu\n",
      "License: MIT\n",
      "Location: /home/jlaw/.conda-envs/crystals_nfp0_3/lib/python3.8/site-packages\n",
      "Requires: matplotlib, monty, networkx, numpy, palettable, pandas, plotly, pybtex, requests, ruamel.yaml, scipy, spglib, sympy, tabulate, tqdm, uncertainties\n",
      "Required-by: \n"
     ]
    }
   ],
   "source": [
    "# Not sure which variable pymatgen uses for its version,\n",
    "# so print it with pip\n",
    "!pip show pymatgen"
   ]
  },
  {
   "cell_type": "markdown",
   "id": "063aba89-5821-4c58-af0d-c8bb77eeafd3",
   "metadata": {},
   "source": [
    "## Predict the total energy\n",
    "- This model has been trained with the ICSD, fully relaxed, and volume-relaxed datasets\n",
    "- This means it will predict the total energy of a structure in its given state\n",
    "  - if the structure is unrelaxed, the energy predicted will be an upper-bound for the energy after relaxation"
   ]
  },
  {
   "cell_type": "code",
   "execution_count": 5,
   "id": "a60f5ca8-38f5-46b9-a33b-b49cf751dde6",
   "metadata": {},
   "outputs": [
    {
     "name": "stdout",
     "output_type": "stream",
     "text": [
      "loading pretrained_models/icsd_full_and_vol_battery.hdf5\n"
     ]
    }
   ],
   "source": [
    "# Load the tensorflow model for predicting the total energy of a given structure\n",
    "# If you haven't already, you'll need to download the model using download.sh (see README.md)\n",
    "energy_model_file = Path(\"pretrained_models\", \"icsd_full_and_vol_battery.hdf5\")\n",
    "print(f\"loading {energy_model_file}\")\n",
    "energy_model = tf.keras.models.load_model(energy_model_file,\n",
    "                                          custom_objects={**custom_objects,\n",
    "                                                          **{'RBFExpansion': RBFExpansion}})"
   ]
  },
  {
   "cell_type": "markdown",
   "id": "26730cb9-1194-4f78-8973-79a58b16abd6",
   "metadata": {},
   "source": [
    "Here's an example of how to predict the energy for a structure"
   ]
  },
  {
   "cell_type": "code",
   "execution_count": 6,
   "id": "e00e20f5-bf74-4661-b830-6bbc2e316b1b",
   "metadata": {},
   "outputs": [
    {
     "data": {
      "text/plain": [
       "Structure Summary\n",
       "Lattice\n",
       "    abc : 6.31324215781406 4.129266345748309 6.313262245757987\n",
       " angles : 89.99981298298509 115.93116321347914 90.00022269721498\n",
       " volume : 148.01081824725688\n",
       "      A : 6.31320261273 -1.29824151174e-05 -0.0223453272811\n",
       "      B : -7.5462453492e-06 4.12926634574 3.4182060174e-06\n",
       "      C : -2.74061976372 1.08903819355e-05 5.6873793169\n",
       "PeriodicSite: Li (3.1566, 3.8750, -0.0112) [0.5000, 0.9384, 0.0000]\n",
       "PeriodicSite: Sc (3.2053, 3.8791, 3.9171) [0.8081, 0.9394, 0.6919]\n",
       "PeriodicSite: Sc (0.3672, 3.8791, 1.7479) [0.1919, 0.9394, 0.3081]\n",
       "PeriodicSite: F (1.0409, 3.8783, 3.8076) [0.4563, 0.9392, 0.6713]\n",
       "PeriodicSite: F (2.5317, 3.8783, 1.8575) [0.5437, 0.9392, 0.3287]\n",
       "PeriodicSite: F (5.1121, 3.8781, 0.2302) [0.8287, 0.9392, 0.0437]\n",
       "PeriodicSite: F (-1.5396, 3.8782, 5.4349) [0.1713, 0.9392, 0.9563]\n",
       "PeriodicSite: F (3.1538, 1.8145, 3.9495) [0.8024, 0.4394, 0.6976]\n",
       "PeriodicSite: F (0.4188, 1.8145, 1.7155) [0.1976, 0.4394, 0.3024]\n",
       "PeriodicSite: F (-1.3703, 3.8811, 2.8437) [0.0000, 0.9399, 0.5000]"
      ]
     },
     "execution_count": 6,
     "metadata": {},
     "output_type": "execute_result"
    }
   ],
   "source": [
    "# Load a structure from file. This is the LiSc2F7 relaxed structure from the paper\n",
    "structure_file = \"inputs/POSCAR_example\"\n",
    "structure = Structure.from_file(structure_file, primitive=True)\n",
    "structure"
   ]
  },
  {
   "cell_type": "code",
   "execution_count": 7,
   "id": "0389b35c-34aa-427c-9754-48fae05aa72c",
   "metadata": {},
   "outputs": [],
   "source": [
    "# Here we define some convenience functions for preprocessing structures and generating predictions\n",
    "def preprocess_structure(structure):\n",
    "    inputs = preprocessor(structure)\n",
    "    # scale structures to a minimum of 1A interatomic distance\n",
    "    min_distance = inputs[\"distance\"].min()\n",
    "    if np.isclose(min_distance, 0):\n",
    "        warn(f\"Error with {row.id}\")\n",
    "        return None\n",
    "\n",
    "    scale_factor = 1.0 / inputs[\"distance\"].min()\n",
    "    inputs[\"distance\"] *= scale_factor\n",
    "    return inputs\n",
    "\n",
    "\n",
    "def build_dataset(structures, batch_size=8):\n",
    "    dataset = tf.data.Dataset.from_generator(\n",
    "        lambda: (preprocess_structure(s) for s in structures),\n",
    "        output_signature=(preprocessor.output_signature),\n",
    "        ).padded_batch(\n",
    "            batch_size=batch_size,\n",
    "            padding_values=(preprocessor.padding_values),\n",
    "        )\n",
    "    return dataset\n",
    "\n",
    "\n",
    "def predict_energy(energy_model, structures):\n",
    "    dataset = build_dataset(structures)\n",
    "    predicted_energy = energy_model.predict(dataset)\n",
    "    return predicted_energy.flatten()"
   ]
  },
  {
   "cell_type": "code",
   "execution_count": 8,
   "id": "3ae9a9b8-b962-4d3d-9f9d-0037eafa8a77",
   "metadata": {},
   "outputs": [
    {
     "data": {
      "text/plain": [
       "array([-6.284776], dtype=float32)"
      ]
     },
     "execution_count": 8,
     "metadata": {},
     "output_type": "execute_result"
    }
   ],
   "source": [
    "predicted_energies = predict_energy(energy_model, [structure])\n",
    "predicted_energies"
   ]
  },
  {
   "cell_type": "code",
   "execution_count": 9,
   "id": "d0a3e17c-65ec-4aee-bbed-1fb655bd17cd",
   "metadata": {},
   "outputs": [
    {
     "name": "stdout",
     "output_type": "stream",
     "text": [
      "0.0172\n"
     ]
    }
   ],
   "source": [
    "# The fully-relaxed energy for this structure is -6.302\n",
    "energy_error = -6.302 - predicted_energies[0]\n",
    "print(f\"{abs(energy_error):0.4f}\")"
   ]
  },
  {
   "cell_type": "markdown",
   "id": "a19e9775-dbb7-40c5-a5a5-5ec40a9beffb",
   "metadata": {},
   "source": [
    "A prediction error of 17 meV/atom is not bad!"
   ]
  },
  {
   "cell_type": "markdown",
   "id": "2b89c870-9aba-4175-8a58-a0cc82782df2",
   "metadata": {},
   "source": [
    "## Decomposition Energy\n",
    "- Build the convex hull and compute the predicted decomposition energy for this structure\n",
    "- We can also compute all of the \"sub-rewards\" we're interested in\n",
    "- To compute the self-consistent decomposition energy, we would need all the DFT-relaxed energies we have, as well as the lowest predicted energy for each relevant composition"
   ]
  },
  {
   "cell_type": "code",
   "execution_count": 10,
   "id": "75719c30-1457-460a-be1b-6cfd28c0a878",
   "metadata": {},
   "outputs": [],
   "source": [
    "from src.ehull import setup_competing_phases\n",
    "from src.crystal_reward import StructureRewardBattInterface"
   ]
  },
  {
   "cell_type": "code",
   "execution_count": 11,
   "id": "779db067-0a87-420b-a6c2-9f67fb69875c",
   "metadata": {},
   "outputs": [
    {
     "name": "stdout",
     "output_type": "stream",
     "text": [
      "Reading inputs/competing_phases.csv\n",
      "\t12682 lines\n",
      "  sortedformula   icsdnum  energyperatom reduced_composition\n",
      "0    Ag10Br3Te4  173116.0      -1.718985          Ag10Br3Te4\n",
      "1   Ag11K1O16V4  391344.0      -4.797702         Ag11K1O16V4\n",
      "\t12682 entries\n"
     ]
    }
   ],
   "source": [
    "# first load the competing phases from NREL MatDB\n",
    "competing_phases_file = \"inputs/competing_phases.csv\"\n",
    "competing_phases = setup_competing_phases(competing_phases_file)"
   ]
  },
  {
   "cell_type": "code",
   "execution_count": 12,
   "id": "4ccb292b-9799-4b05-9470-19e0fde7bdf4",
   "metadata": {},
   "outputs": [],
   "source": [
    "# The rewarder calculates all the sub-rewards (e.g. decomposition energy, conducting ion %)\n",
    "# and combines them into a single reward value\n",
    "rewarder = StructureRewardBattInterface(competing_phases)"
   ]
  },
  {
   "cell_type": "code",
   "execution_count": 13,
   "id": "d238ace4-8e9e-48e2-ba8c-40ff5d85c802",
   "metadata": {},
   "outputs": [
    {
     "data": {
      "text/plain": [
       "(Comp: Li1 Sc2 F7,\n",
       " 0.8275238356399739,\n",
       " {'predicted_energy': -6.284776,\n",
       "  'oxidation': -5,\n",
       "  'reduction': -0.8864,\n",
       "  'stability_window': 4.1136,\n",
       "  'decomp_energy': -1.7769,\n",
       "  'cond_ion_frac': 0.1})"
      ]
     },
     "execution_count": 13,
     "metadata": {},
     "output_type": "execute_result"
    }
   ],
   "source": [
    "# now compute the reward of the structure\n",
    "comp = structure.composition\n",
    "energyperatom = predicted_energies[0]\n",
    "reward, info = rewarder.compute_reward(comp, energyperatom)\n",
    "comp, reward, info"
   ]
  },
  {
   "cell_type": "markdown",
   "id": "8ebc3437-c998-4574-9791-67cf135a76f6",
   "metadata": {},
   "source": [
    "## Model Evaluation\n",
    "- `train_model.py` already predicts the energy of the test set after training \n",
    "- Here we can print the Mean Absolute Error (MAE) for each dataset\n",
    "- See `pretrained_models/plot_err.ipynb` for more"
   ]
  },
  {
   "cell_type": "code",
   "execution_count": 14,
   "id": "aa10c74f-4ba3-4647-ba5e-364b257ef515",
   "metadata": {},
   "outputs": [
    {
     "data": {
      "text/html": [
       "<div>\n",
       "<style scoped>\n",
       "    .dataframe tbody tr th:only-of-type {\n",
       "        vertical-align: middle;\n",
       "    }\n",
       "\n",
       "    .dataframe tbody tr th {\n",
       "        vertical-align: top;\n",
       "    }\n",
       "\n",
       "    .dataframe thead th {\n",
       "        text-align: right;\n",
       "    }\n",
       "</style>\n",
       "<table border=\"1\" class=\"dataframe\">\n",
       "  <thead>\n",
       "    <tr style=\"text-align: right;\">\n",
       "      <th></th>\n",
       "      <th>id</th>\n",
       "      <th>composition</th>\n",
       "      <th>energyperatom</th>\n",
       "      <th>volume</th>\n",
       "      <th>num_sites</th>\n",
       "      <th>dataset</th>\n",
       "      <th>scale_factor</th>\n",
       "      <th>set</th>\n",
       "      <th>energy_predicted</th>\n",
       "    </tr>\n",
       "  </thead>\n",
       "  <tbody>\n",
       "    <tr>\n",
       "      <th>0</th>\n",
       "      <td>icsd_000008</td>\n",
       "      <td>Ba1S3Te1</td>\n",
       "      <td>-4.37838</td>\n",
       "      <td>565.32959</td>\n",
       "      <td>20</td>\n",
       "      <td>icsd</td>\n",
       "      <td>0.424954</td>\n",
       "      <td>train</td>\n",
       "      <td>-4.370380</td>\n",
       "    </tr>\n",
       "    <tr>\n",
       "      <th>1</th>\n",
       "      <td>icsd_000012</td>\n",
       "      <td>Cl7Ga2K1</td>\n",
       "      <td>-3.34424</td>\n",
       "      <td>1132.18244</td>\n",
       "      <td>40</td>\n",
       "      <td>icsd</td>\n",
       "      <td>0.471884</td>\n",
       "      <td>train</td>\n",
       "      <td>-3.364022</td>\n",
       "    </tr>\n",
       "  </tbody>\n",
       "</table>\n",
       "</div>"
      ],
      "text/plain": [
       "            id composition  energyperatom      volume  num_sites dataset  \\\n",
       "0  icsd_000008    Ba1S3Te1       -4.37838   565.32959         20    icsd   \n",
       "1  icsd_000012    Cl7Ga2K1       -3.34424  1132.18244         40    icsd   \n",
       "\n",
       "   scale_factor    set  energy_predicted  \n",
       "0      0.424954  train         -4.370380  \n",
       "1      0.471884  train         -3.364022  "
      ]
     },
     "execution_count": 14,
     "metadata": {},
     "output_type": "execute_result"
    }
   ],
   "source": [
    "run_dir = \"pretrained_models\"\n",
    "df_pred = pd.read_csv(Path(run_dir, \"predicted_energies.csv.gz\"),\n",
    "                      index_col=0)\n",
    "df_pred.head(2)"
   ]
  },
  {
   "cell_type": "code",
   "execution_count": 15,
   "id": "b6aa6a4d-a8ef-4b2d-8893-73abd04cb4bd",
   "metadata": {},
   "outputs": [
    {
     "data": {
      "text/html": [
       "<div>\n",
       "<style scoped>\n",
       "    .dataframe tbody tr th:only-of-type {\n",
       "        vertical-align: middle;\n",
       "    }\n",
       "\n",
       "    .dataframe tbody tr th {\n",
       "        vertical-align: top;\n",
       "    }\n",
       "\n",
       "    .dataframe thead th {\n",
       "        text-align: right;\n",
       "    }\n",
       "</style>\n",
       "<table border=\"1\" class=\"dataframe\">\n",
       "  <thead>\n",
       "    <tr style=\"text-align: right;\">\n",
       "      <th>dataset</th>\n",
       "      <th>icsd</th>\n",
       "      <th>relax</th>\n",
       "      <th>vol</th>\n",
       "    </tr>\n",
       "    <tr>\n",
       "      <th>set</th>\n",
       "      <th></th>\n",
       "      <th></th>\n",
       "      <th></th>\n",
       "    </tr>\n",
       "  </thead>\n",
       "  <tbody>\n",
       "    <tr>\n",
       "      <th>test</th>\n",
       "      <td>0.045</td>\n",
       "      <td>0.034</td>\n",
       "      <td>0.050</td>\n",
       "    </tr>\n",
       "    <tr>\n",
       "      <th>test_composition</th>\n",
       "      <td>0.048</td>\n",
       "      <td>0.036</td>\n",
       "      <td>0.065</td>\n",
       "    </tr>\n",
       "    <tr>\n",
       "      <th>train</th>\n",
       "      <td>0.035</td>\n",
       "      <td>0.028</td>\n",
       "      <td>0.035</td>\n",
       "    </tr>\n",
       "    <tr>\n",
       "      <th>valid</th>\n",
       "      <td>0.052</td>\n",
       "      <td>0.038</td>\n",
       "      <td>0.048</td>\n",
       "    </tr>\n",
       "  </tbody>\n",
       "</table>\n",
       "</div>"
      ],
      "text/plain": [
       "dataset            icsd  relax    vol\n",
       "set                                  \n",
       "test              0.045  0.034  0.050\n",
       "test_composition  0.048  0.036  0.065\n",
       "train             0.035  0.028  0.035\n",
       "valid             0.052  0.038  0.048"
      ]
     },
     "execution_count": 15,
     "metadata": {},
     "output_type": "execute_result"
    }
   ],
   "source": [
    "df_pred['energy_err'] = (df_pred['energyperatom'] - df_pred['energy_predicted']).abs()\n",
    "df_pred.groupby(['set', 'dataset']).energy_err.mean().unstack().round(3)"
   ]
  }
 ],
 "metadata": {
  "kernelspec": {
   "display_name": "Python 3 (ipykernel)",
   "language": "python",
   "name": "python3"
  },
  "language_info": {
   "codemirror_mode": {
    "name": "ipython",
    "version": 3
   },
   "file_extension": ".py",
   "mimetype": "text/x-python",
   "name": "python",
   "nbconvert_exporter": "python",
   "pygments_lexer": "ipython3",
   "version": "3.8.13"
  }
 },
 "nbformat": 4,
 "nbformat_minor": 5
}
