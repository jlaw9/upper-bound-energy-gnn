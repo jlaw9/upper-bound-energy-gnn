{
 "cells": [
  {
   "cell_type": "code",
   "execution_count": 1,
   "id": "f302004f-bcdd-4218-a49e-77e56b87cae8",
   "metadata": {},
   "outputs": [],
   "source": [
    "import os\n",
    "from pathlib import Path\n",
    "# import nfp\n",
    "import numpy as np\n",
    "import pandas as pd\n",
    "import tarfile\n",
    "from pymatgen.core import Structure\n",
    "import json\n",
    "import gzip\n",
    "import re\n",
    "from glob import glob\n",
    "from tqdm.notebook import tqdm\n",
    "tqdm.pandas()"
   ]
  },
  {
   "cell_type": "code",
   "execution_count": 2,
   "id": "e1165d5f-0de1-4bec-b316-2c3269f03e16",
   "metadata": {},
   "outputs": [],
   "source": [
    "import matplotlib.pyplot as plt\n",
    "import seaborn as sns\n",
    "sns.set(context='notebook', \n",
    "        # font_scale=8/8.8,\n",
    "        style='ticks',\n",
    "        color_codes=True, \n",
    "        rc={'legend.frameon': False})\n",
    "\n",
    "plt.rcParams['svg.fonttype'] = 'none'\n",
    "# plt.rc('axes', labelsize=11)\n",
    "# plt.rc('legend', fontsize=11)\n",
    "\n",
    "%matplotlib inline"
   ]
  },
  {
   "cell_type": "code",
   "execution_count": 3,
   "id": "aa10c74f-4ba3-4647-ba5e-364b257ef515",
   "metadata": {},
   "outputs": [
    {
     "data": {
      "text/html": [
       "<div>\n",
       "<style scoped>\n",
       "    .dataframe tbody tr th:only-of-type {\n",
       "        vertical-align: middle;\n",
       "    }\n",
       "\n",
       "    .dataframe tbody tr th {\n",
       "        vertical-align: top;\n",
       "    }\n",
       "\n",
       "    .dataframe thead th {\n",
       "        text-align: right;\n",
       "    }\n",
       "</style>\n",
       "<table border=\"1\" class=\"dataframe\">\n",
       "  <thead>\n",
       "    <tr style=\"text-align: right;\">\n",
       "      <th></th>\n",
       "      <th>id</th>\n",
       "      <th>composition</th>\n",
       "      <th>energyperatom</th>\n",
       "      <th>volume</th>\n",
       "      <th>num_sites</th>\n",
       "      <th>dataset</th>\n",
       "      <th>scale_factor</th>\n",
       "      <th>set</th>\n",
       "      <th>energy_predicted</th>\n",
       "    </tr>\n",
       "  </thead>\n",
       "  <tbody>\n",
       "    <tr>\n",
       "      <th>0</th>\n",
       "      <td>icsd_000008</td>\n",
       "      <td>Ba1S3Te1</td>\n",
       "      <td>-4.37838</td>\n",
       "      <td>565.32959</td>\n",
       "      <td>20</td>\n",
       "      <td>icsd</td>\n",
       "      <td>0.424954</td>\n",
       "      <td>train</td>\n",
       "      <td>-4.370380</td>\n",
       "    </tr>\n",
       "    <tr>\n",
       "      <th>1</th>\n",
       "      <td>icsd_000012</td>\n",
       "      <td>Cl7Ga2K1</td>\n",
       "      <td>-3.34424</td>\n",
       "      <td>1132.18244</td>\n",
       "      <td>40</td>\n",
       "      <td>icsd</td>\n",
       "      <td>0.471884</td>\n",
       "      <td>train</td>\n",
       "      <td>-3.364022</td>\n",
       "    </tr>\n",
       "  </tbody>\n",
       "</table>\n",
       "</div>"
      ],
      "text/plain": [
       "            id composition  energyperatom      volume  num_sites dataset  \\\n",
       "0  icsd_000008    Ba1S3Te1       -4.37838   565.32959         20    icsd   \n",
       "1  icsd_000012    Cl7Ga2K1       -3.34424  1132.18244         40    icsd   \n",
       "\n",
       "   scale_factor    set  energy_predicted  \n",
       "0      0.424954  train         -4.370380  \n",
       "1      0.471884  train         -3.364022  "
      ]
     },
     "execution_count": 3,
     "metadata": {},
     "output_type": "execute_result"
    }
   ],
   "source": [
    "# This file has the predicted energies for all structures in the train, valid and test set\n",
    "# We will use it to plot the test err\n",
    "base_dir = \"/projects/rlmolecule/jlaw/projects/upper-bound-energy-gnn-fork\"\n",
    "pred_energies_file = Path(base_dir, \"pretrained_models/predicted_energies.csv.gz\")\n",
    "df_pred = pd.read_csv(pred_energies_file, index_col=0)\n",
    "df_pred.head(2)"
   ]
  },
  {
   "cell_type": "code",
   "execution_count": 4,
   "id": "2769dc21-e11d-4aee-bdfa-81b4438f1775",
   "metadata": {},
   "outputs": [
    {
     "data": {
      "text/plain": [
       "vol      58669\n",
       "relax    52949\n",
       "icsd     16409\n",
       "Name: dataset, dtype: int64"
      ]
     },
     "execution_count": 4,
     "metadata": {},
     "output_type": "execute_result"
    }
   ],
   "source": [
    "df_pred.dataset.value_counts()"
   ]
  },
  {
   "cell_type": "code",
   "execution_count": 5,
   "id": "b4d2efc9-5680-46da-a4d5-0a67edcd9654",
   "metadata": {},
   "outputs": [
    {
     "data": {
      "text/plain": [
       "train               123914\n",
       "valid                 1500\n",
       "test                  1500\n",
       "test_composition      1113\n",
       "Name: set, dtype: int64"
      ]
     },
     "execution_count": 5,
     "metadata": {},
     "output_type": "execute_result"
    }
   ],
   "source": [
    "df_pred.set.value_counts()"
   ]
  },
  {
   "cell_type": "code",
   "execution_count": 6,
   "id": "3d3a9e0a-4f30-4afe-994f-fff0adc29e6d",
   "metadata": {},
   "outputs": [
    {
     "data": {
      "text/html": [
       "<div>\n",
       "<style scoped>\n",
       "    .dataframe tbody tr th:only-of-type {\n",
       "        vertical-align: middle;\n",
       "    }\n",
       "\n",
       "    .dataframe tbody tr th {\n",
       "        vertical-align: top;\n",
       "    }\n",
       "\n",
       "    .dataframe thead th {\n",
       "        text-align: right;\n",
       "    }\n",
       "</style>\n",
       "<table border=\"1\" class=\"dataframe\">\n",
       "  <thead>\n",
       "    <tr style=\"text-align: right;\">\n",
       "      <th>dataset</th>\n",
       "      <th>icsd</th>\n",
       "      <th>relax</th>\n",
       "      <th>vol</th>\n",
       "    </tr>\n",
       "    <tr>\n",
       "      <th>set</th>\n",
       "      <th></th>\n",
       "      <th></th>\n",
       "      <th></th>\n",
       "    </tr>\n",
       "  </thead>\n",
       "  <tbody>\n",
       "    <tr>\n",
       "      <th>test</th>\n",
       "      <td>0.045</td>\n",
       "      <td>0.034</td>\n",
       "      <td>0.050</td>\n",
       "    </tr>\n",
       "    <tr>\n",
       "      <th>test_composition</th>\n",
       "      <td>0.048</td>\n",
       "      <td>0.036</td>\n",
       "      <td>0.065</td>\n",
       "    </tr>\n",
       "    <tr>\n",
       "      <th>train</th>\n",
       "      <td>0.035</td>\n",
       "      <td>0.028</td>\n",
       "      <td>0.035</td>\n",
       "    </tr>\n",
       "    <tr>\n",
       "      <th>valid</th>\n",
       "      <td>0.052</td>\n",
       "      <td>0.038</td>\n",
       "      <td>0.048</td>\n",
       "    </tr>\n",
       "  </tbody>\n",
       "</table>\n",
       "</div>"
      ],
      "text/plain": [
       "dataset            icsd  relax    vol\n",
       "set                                  \n",
       "test              0.045  0.034  0.050\n",
       "test_composition  0.048  0.036  0.065\n",
       "train             0.035  0.028  0.035\n",
       "valid             0.052  0.038  0.048"
      ]
     },
     "execution_count": 6,
     "metadata": {},
     "output_type": "execute_result"
    }
   ],
   "source": [
    "df_pred['energy_err'] = (df_pred['energyperatom'] - df_pred['energy_predicted']).abs()\n",
    "df_pred.groupby(['set', 'dataset']).energy_err.mean().unstack().round(3)"
   ]
  },
  {
   "cell_type": "code",
   "execution_count": 7,
   "id": "066a4973-6032-444e-8057-3973c531d3e2",
   "metadata": {},
   "outputs": [
    {
     "name": "stderr",
     "output_type": "stream",
     "text": [
      "/tmp/ipykernel_21587/208845463.py:2: SettingWithCopyWarning: \n",
      "A value is trying to be set on a copy of a slice from a DataFrame\n",
      "\n",
      "See the caveats in the documentation: https://pandas.pydata.org/pandas-docs/stable/user_guide/indexing.html#returning-a-view-versus-a-copy\n",
      "  test_data.sort_values('dataset', ascending=False, inplace=True)\n"
     ]
    },
    {
     "data": {
      "text/html": [
       "<div>\n",
       "<style scoped>\n",
       "    .dataframe tbody tr th:only-of-type {\n",
       "        vertical-align: middle;\n",
       "    }\n",
       "\n",
       "    .dataframe tbody tr th {\n",
       "        vertical-align: top;\n",
       "    }\n",
       "\n",
       "    .dataframe thead th {\n",
       "        text-align: right;\n",
       "    }\n",
       "</style>\n",
       "<table border=\"1\" class=\"dataframe\">\n",
       "  <thead>\n",
       "    <tr style=\"text-align: right;\">\n",
       "      <th></th>\n",
       "      <th>id</th>\n",
       "      <th>composition</th>\n",
       "      <th>energyperatom</th>\n",
       "      <th>volume</th>\n",
       "      <th>num_sites</th>\n",
       "      <th>dataset</th>\n",
       "      <th>scale_factor</th>\n",
       "      <th>set</th>\n",
       "      <th>energy_predicted</th>\n",
       "      <th>energy_err</th>\n",
       "    </tr>\n",
       "  </thead>\n",
       "  <tbody>\n",
       "    <tr>\n",
       "      <th>127968</th>\n",
       "      <td>Zn5S2P2_sg15_icsd_036063_2</td>\n",
       "      <td>Zn5S2P2</td>\n",
       "      <td>-2.53878</td>\n",
       "      <td>937.83035</td>\n",
       "      <td>36</td>\n",
       "      <td>vol</td>\n",
       "      <td>0.475066</td>\n",
       "      <td>test</td>\n",
       "      <td>-2.550149</td>\n",
       "      <td>0.011369</td>\n",
       "    </tr>\n",
       "    <tr>\n",
       "      <th>87545</th>\n",
       "      <td>Li2Sb1Cl7_sg65_icsd_174209_1</td>\n",
       "      <td>Li2Sb1Cl7</td>\n",
       "      <td>-2.46500</td>\n",
       "      <td>452.62000</td>\n",
       "      <td>20</td>\n",
       "      <td>vol</td>\n",
       "      <td>0.421698</td>\n",
       "      <td>test</td>\n",
       "      <td>-2.490621</td>\n",
       "      <td>0.025621</td>\n",
       "    </tr>\n",
       "  </tbody>\n",
       "</table>\n",
       "</div>"
      ],
      "text/plain": [
       "                                  id composition  energyperatom     volume  \\\n",
       "127968    Zn5S2P2_sg15_icsd_036063_2     Zn5S2P2       -2.53878  937.83035   \n",
       "87545   Li2Sb1Cl7_sg65_icsd_174209_1   Li2Sb1Cl7       -2.46500  452.62000   \n",
       "\n",
       "        num_sites dataset  scale_factor   set  energy_predicted  energy_err  \n",
       "127968         36     vol      0.475066  test         -2.550149    0.011369  \n",
       "87545          20     vol      0.421698  test         -2.490621    0.025621  "
      ]
     },
     "execution_count": 7,
     "metadata": {},
     "output_type": "execute_result"
    }
   ],
   "source": [
    "test_data = df_pred[df_pred.set == \"test\"]\n",
    "test_data.sort_values('dataset', ascending=False, inplace=True)\n",
    "test_data.head(2)"
   ]
  },
  {
   "cell_type": "code",
   "execution_count": 8,
   "id": "818bac2f-0da5-446b-a8c0-c587520c5ec7",
   "metadata": {},
   "outputs": [],
   "source": [
    "# use the average from the learning curve\n",
    "maes = {\n",
    "    \"icsd\": 0.046,\n",
    "    \"relax\": 0.032,\n",
    "    \"vol\": 0.045,\n",
    "}"
   ]
  },
  {
   "cell_type": "code",
   "execution_count": 11,
   "id": "cd861258-5b89-4351-a79b-49e5aee5e5fe",
   "metadata": {},
   "outputs": [],
   "source": [
    "colors = {'icsd': \"#32353b\",  # gray\n",
    "          'relax': \"#5b6cdd\",  # blue\n",
    "          'vol': \"#c67884\",  # salmon\n",
    "         }"
   ]
  },
  {
   "cell_type": "code",
   "execution_count": 12,
   "id": "6b3cf980-5662-4157-af1f-a5a1230f9026",
   "metadata": {},
   "outputs": [
    {
     "data": {
      "image/png": "[encoded data removed]",
      "text/plain": [
       "<Figure size 288x288 with 1 Axes>"
      ]
     },
     "metadata": {
      "needs_background": "light"
     },
     "output_type": "display_data"
    }
   ],
   "source": [
    "# f, ax = plt.subplots(figsize=(4,4))\n",
    "fig = plt.figure(figsize=(4,4))\n",
    "ax = fig.add_subplot(111, aspect='equal', adjustable='datalim')\n",
    "g = sns.scatterplot(data=test_data, x=\"energyperatom\", y=\"energy_predicted\", \n",
    "                hue=\"dataset\", hue_order=[\"icsd\", \"relax\", \"vol\"],\n",
    "                alpha=.6, s=10, linewidth=0, \n",
    "                    palette=colors,\n",
    "               )\n",
    "g.legend_.set_title(None)\n",
    "ax.legend(loc='upper left', bbox_to_anchor=(0, 1.2))\n",
    "\n",
    "new_labels = ['ICSD', 'fully-relaxed', 'volume-relaxed']\n",
    "for t, l in zip(ax.legend_.texts, new_labels):\n",
    "    data_type = t.get_text()\n",
    "    # df = test_data[test_data.type == data_type]\n",
    "    # mae = (df.energyperatom - df.energy_predicted).abs().mean()\n",
    "    mae = maes[data_type]\n",
    "    new_label = f\"{l} ({mae})\"\n",
    "    t.set_text(new_label)\n",
    "    t.set_fontsize(10)\n",
    "\n",
    "plt.xlabel(\"DFT Total Energy (eV/atom)\")\n",
    "plt.ylabel(\"Predited Total Energy (eV/atom)\")\n",
    "\n",
    "sns.despine()\n",
    "\n",
    "# plt.title(\"Training data: ICSD, Battery Relaxed\")\n",
    "# out_file = f\"test_err_scatter.svg\"\n",
    "# print(os.path.abspath(out_file))\n",
    "# plt.savefig(out_file, bbox_inches='tight')\n",
    "# plt.savefig(out_file.replace('.svg', '.png'), bbox_inches='tight', dpi=300)"
   ]
  }
 ],
 "metadata": {
  "kernelspec": {
   "display_name": "Python 3 (ipykernel)",
   "language": "python",
   "name": "python3"
  },
  "language_info": {
   "codemirror_mode": {
    "name": "ipython",
    "version": 3
   },
   "file_extension": ".py",
   "mimetype": "text/x-python",
   "name": "python",
   "nbconvert_exporter": "python",
   "pygments_lexer": "ipython3",
   "version": "3.8.13"
  }
 },
 "nbformat": 4,
 "nbformat_minor": 5
}
